{
  "nbformat": 4,
  "nbformat_minor": 0,
  "metadata": {
    "colab": {
      "name": "Netflix_EDA.ipynb",
      "provenance": [],
      "collapsed_sections": []
    },
    "kernelspec": {
      "name": "python3",
      "display_name": "Python 3"
    }
  },
  "cells": [
    {
      "cell_type": "code",
      "metadata": {
        "id": "BJBA1JdWNHls"
      },
      "source": [
        "#importing libraries\r\n",
        "import numpy as np\r\n",
        "import pandas as pd\r\n",
        "import matplotlib\r\n",
        "import matplotlib.pyplot as plt\r\n",
        "import seaborn as sns"
      ],
      "execution_count": 1,
      "outputs": []
    },
    {
      "cell_type": "markdown",
      "metadata": {
        "id": "C7Vf-7VNNQWR"
      },
      "source": [
        "The dataset consists of TV Shows and Movies listed on the Netflix dataset from Kaggle. The dataset consists of TV Shows and Movies available on Netflix as of 2019. The dataset is collected from Flixable, which third-party Netflix search engine.\r\n",
        "\r\n",
        "courtesy: https://medium.com/analytics-vidhya/netflix-movies-and-tvshows-exploratory-data-analysis-eda-and-visualization-using-python-80753fcfcf7\r\n",
        "\r\n",
        "The EDA questions are from above article but python code is attempted on own."
      ]
    },
    {
      "cell_type": "code",
      "metadata": {
        "id": "hCC8gtuuNUkA"
      },
      "source": [
        "netflix_df = pd.read_csv(\"netflix_titles.csv\")"
      ],
      "execution_count": 2,
      "outputs": []
    },
    {
      "cell_type": "code",
      "metadata": {
        "colab": {
          "base_uri": "https://localhost:8080/",
          "height": 322
        },
        "id": "AMBSF17ROImN",
        "outputId": "96ad3b9b-9cfd-45a1-cb95-1d89b02471d9"
      },
      "source": [
        "netflix_df.head(3)"
      ],
      "execution_count": 3,
      "outputs": [
        {
          "output_type": "execute_result",
          "data": {
            "text/html": [
              "<div>\n",
              "<style scoped>\n",
              "    .dataframe tbody tr th:only-of-type {\n",
              "        vertical-align: middle;\n",
              "    }\n",
              "\n",
              "    .dataframe tbody tr th {\n",
              "        vertical-align: top;\n",
              "    }\n",
              "\n",
              "    .dataframe thead th {\n",
              "        text-align: right;\n",
              "    }\n",
              "</style>\n",
              "<table border=\"1\" class=\"dataframe\">\n",
              "  <thead>\n",
              "    <tr style=\"text-align: right;\">\n",
              "      <th></th>\n",
              "      <th>show_id</th>\n",
              "      <th>type</th>\n",
              "      <th>title</th>\n",
              "      <th>director</th>\n",
              "      <th>cast</th>\n",
              "      <th>country</th>\n",
              "      <th>date_added</th>\n",
              "      <th>release_year</th>\n",
              "      <th>rating</th>\n",
              "      <th>duration</th>\n",
              "      <th>listed_in</th>\n",
              "      <th>description</th>\n",
              "    </tr>\n",
              "  </thead>\n",
              "  <tbody>\n",
              "    <tr>\n",
              "      <th>0</th>\n",
              "      <td>81145628</td>\n",
              "      <td>Movie</td>\n",
              "      <td>Norm of the North: King Sized Adventure</td>\n",
              "      <td>Richard Finn, Tim Maltby</td>\n",
              "      <td>Alan Marriott, Andrew Toth, Brian Dobson, Cole...</td>\n",
              "      <td>United States, India, South Korea, China</td>\n",
              "      <td>September 9, 2019</td>\n",
              "      <td>2019</td>\n",
              "      <td>TV-PG</td>\n",
              "      <td>90 min</td>\n",
              "      <td>Children &amp; Family Movies, Comedies</td>\n",
              "      <td>Before planning an awesome wedding for his gra...</td>\n",
              "    </tr>\n",
              "    <tr>\n",
              "      <th>1</th>\n",
              "      <td>80117401</td>\n",
              "      <td>Movie</td>\n",
              "      <td>Jandino: Whatever it Takes</td>\n",
              "      <td>NaN</td>\n",
              "      <td>Jandino Asporaat</td>\n",
              "      <td>United Kingdom</td>\n",
              "      <td>September 9, 2016</td>\n",
              "      <td>2016</td>\n",
              "      <td>TV-MA</td>\n",
              "      <td>94 min</td>\n",
              "      <td>Stand-Up Comedy</td>\n",
              "      <td>Jandino Asporaat riffs on the challenges of ra...</td>\n",
              "    </tr>\n",
              "    <tr>\n",
              "      <th>2</th>\n",
              "      <td>70234439</td>\n",
              "      <td>TV Show</td>\n",
              "      <td>Transformers Prime</td>\n",
              "      <td>NaN</td>\n",
              "      <td>Peter Cullen, Sumalee Montano, Frank Welker, J...</td>\n",
              "      <td>United States</td>\n",
              "      <td>September 8, 2018</td>\n",
              "      <td>2013</td>\n",
              "      <td>TV-Y7-FV</td>\n",
              "      <td>1 Season</td>\n",
              "      <td>Kids' TV</td>\n",
              "      <td>With the help of three human allies, the Autob...</td>\n",
              "    </tr>\n",
              "  </tbody>\n",
              "</table>\n",
              "</div>"
            ],
            "text/plain": [
              "    show_id  ...                                        description\n",
              "0  81145628  ...  Before planning an awesome wedding for his gra...\n",
              "1  80117401  ...  Jandino Asporaat riffs on the challenges of ra...\n",
              "2  70234439  ...  With the help of three human allies, the Autob...\n",
              "\n",
              "[3 rows x 12 columns]"
            ]
          },
          "metadata": {
            "tags": []
          },
          "execution_count": 3
        }
      ]
    },
    {
      "cell_type": "code",
      "metadata": {
        "colab": {
          "base_uri": "https://localhost:8080/"
        },
        "id": "fp6Eu_rVOLDW",
        "outputId": "6a362816-52fb-4aff-9408-4fd846e4e5d8"
      },
      "source": [
        "netflix_df.shape"
      ],
      "execution_count": 4,
      "outputs": [
        {
          "output_type": "execute_result",
          "data": {
            "text/plain": [
              "(6234, 12)"
            ]
          },
          "metadata": {
            "tags": []
          },
          "execution_count": 4
        }
      ]
    },
    {
      "cell_type": "markdown",
      "metadata": {
        "id": "lpiD4YjeOhqe"
      },
      "source": [
        "**Data Profiling & Cleaning**"
      ]
    },
    {
      "cell_type": "code",
      "metadata": {
        "colab": {
          "base_uri": "https://localhost:8080/"
        },
        "id": "Bm3LzDOeOYwI",
        "outputId": "cf526368-6f68-4e41-8f82-646a0f349b79"
      },
      "source": [
        "netflix_df.isnull().sum()"
      ],
      "execution_count": 5,
      "outputs": [
        {
          "output_type": "execute_result",
          "data": {
            "text/plain": [
              "show_id            0\n",
              "type               0\n",
              "title              0\n",
              "director        1969\n",
              "cast             570\n",
              "country          476\n",
              "date_added        11\n",
              "release_year       0\n",
              "rating            10\n",
              "duration           0\n",
              "listed_in          0\n",
              "description        0\n",
              "dtype: int64"
            ]
          },
          "metadata": {
            "tags": []
          },
          "execution_count": 5
        }
      ]
    },
    {
      "cell_type": "code",
      "metadata": {
        "colab": {
          "base_uri": "https://localhost:8080/"
        },
        "id": "wZNhx6AKPdMR",
        "outputId": "2c24b748-a184-43c8-8089-0c3965891e02"
      },
      "source": [
        "netflix_df.columns"
      ],
      "execution_count": 6,
      "outputs": [
        {
          "output_type": "execute_result",
          "data": {
            "text/plain": [
              "Index(['show_id', 'type', 'title', 'director', 'cast', 'country', 'date_added',\n",
              "       'release_year', 'rating', 'duration', 'listed_in', 'description'],\n",
              "      dtype='object')"
            ]
          },
          "metadata": {
            "tags": []
          },
          "execution_count": 6
        }
      ]
    },
    {
      "cell_type": "code",
      "metadata": {
        "id": "qxFFycjHOmjO"
      },
      "source": [
        "netflix_df.dropna(subset=['rating','date_added'],inplace=True)# remove insignificant nA values"
      ],
      "execution_count": 7,
      "outputs": []
    },
    {
      "cell_type": "code",
      "metadata": {
        "id": "XVs0LQs3PVh8"
      },
      "source": [
        "netflix_df.director.fillna(\"Director_NA\", inplace=True)\r\n",
        "netflix_df.cast.fillna(\"Cast_NA\", inplace=True)\r\n",
        "netflix_df.country.fillna(\"Country_NA\", inplace=True)\r\n",
        "# create a new cat called NA wherever values are missing for significant col"
      ],
      "execution_count": 8,
      "outputs": []
    },
    {
      "cell_type": "markdown",
      "metadata": {
        "id": "VRbXDBo49TFj"
      },
      "source": [
        "**Exploratory Analysis and Visualization**"
      ]
    },
    {
      "cell_type": "code",
      "metadata": {
        "colab": {
          "base_uri": "https://localhost:8080/",
          "height": 248
        },
        "id": "hMAoYPTRP619",
        "outputId": "2188eb00-3884-4de6-c0aa-6330817cfcee"
      },
      "source": [
        "#compare the total number of movies and shows in this dataset to know which one is the majority.\r\n",
        "netflix_df.groupby('type')['show_id'].count().plot.pie(colors=['red','green'],autopct='%1.1f%%', startangle=180)\r\n",
        "plt.show()"
      ],
      "execution_count": 9,
      "outputs": [
        {
          "output_type": "display_data",
          "data": {
            "image/png": "[encoded data removed]",
            "text/plain": [
              "<Figure size 432x288 with 1 Axes>"
            ]
          },
          "metadata": {
            "tags": []
          }
        }
      ]
    },
    {
      "cell_type": "code",
      "metadata": {
        "id": "CvK-QoLn9rwT"
      },
      "source": [
        "#the amount of content Netflix has added throughout the previous years\r\n",
        "temp = netflix_df.groupby(['release_year','type'])[['show_id']].count().unstack('type')\r\n"
      ],
      "execution_count": 10,
      "outputs": []
    },
    {
      "cell_type": "code",
      "metadata": {
        "id": "ws2TobEwE5R0"
      },
      "source": [
        "temp[('show_id','Total')] = temp[('show_id','Movie')]+temp[('show_id','TV Show')]"
      ],
      "execution_count": 11,
      "outputs": []
    },
    {
      "cell_type": "code",
      "metadata": {
        "colab": {
          "base_uri": "https://localhost:8080/",
          "height": 262
        },
        "id": "_-RoBfMoFVuW",
        "outputId": "37415ff1-32bc-4a8b-84fb-f085ef58cb60"
      },
      "source": [
        "#remove 2020 data as it seems incomplete\r\n",
        "temp.drop(2020,axis=0,inplace=True)\r\n",
        "temp.tail()"
      ],
      "execution_count": 12,
      "outputs": [
        {
          "output_type": "execute_result",
          "data": {
            "text/html": [
              "<div>\n",
              "<style scoped>\n",
              "    .dataframe tbody tr th:only-of-type {\n",
              "        vertical-align: middle;\n",
              "    }\n",
              "\n",
              "    .dataframe tbody tr th {\n",
              "        vertical-align: top;\n",
              "    }\n",
              "\n",
              "    .dataframe thead tr th {\n",
              "        text-align: left;\n",
              "    }\n",
              "\n",
              "    .dataframe thead tr:last-of-type th {\n",
              "        text-align: right;\n",
              "    }\n",
              "</style>\n",
              "<table border=\"1\" class=\"dataframe\">\n",
              "  <thead>\n",
              "    <tr>\n",
              "      <th></th>\n",
              "      <th colspan=\"3\" halign=\"left\">show_id</th>\n",
              "    </tr>\n",
              "    <tr>\n",
              "      <th>type</th>\n",
              "      <th>Movie</th>\n",
              "      <th>TV Show</th>\n",
              "      <th>Total</th>\n",
              "    </tr>\n",
              "    <tr>\n",
              "      <th>release_year</th>\n",
              "      <th></th>\n",
              "      <th></th>\n",
              "      <th></th>\n",
              "    </tr>\n",
              "  </thead>\n",
              "  <tbody>\n",
              "    <tr>\n",
              "      <th>2015</th>\n",
              "      <td>359.0</td>\n",
              "      <td>151.0</td>\n",
              "      <td>510.0</td>\n",
              "    </tr>\n",
              "    <tr>\n",
              "      <th>2016</th>\n",
              "      <td>592.0</td>\n",
              "      <td>236.0</td>\n",
              "      <td>828.0</td>\n",
              "    </tr>\n",
              "    <tr>\n",
              "      <th>2017</th>\n",
              "      <td>680.0</td>\n",
              "      <td>277.0</td>\n",
              "      <td>957.0</td>\n",
              "    </tr>\n",
              "    <tr>\n",
              "      <th>2018</th>\n",
              "      <td>646.0</td>\n",
              "      <td>416.0</td>\n",
              "      <td>1062.0</td>\n",
              "    </tr>\n",
              "    <tr>\n",
              "      <th>2019</th>\n",
              "      <td>400.0</td>\n",
              "      <td>443.0</td>\n",
              "      <td>843.0</td>\n",
              "    </tr>\n",
              "  </tbody>\n",
              "</table>\n",
              "</div>"
            ],
            "text/plain": [
              "             show_id                \n",
              "type           Movie TV Show   Total\n",
              "release_year                        \n",
              "2015           359.0   151.0   510.0\n",
              "2016           592.0   236.0   828.0\n",
              "2017           680.0   277.0   957.0\n",
              "2018           646.0   416.0  1062.0\n",
              "2019           400.0   443.0   843.0"
            ]
          },
          "metadata": {
            "tags": []
          },
          "execution_count": 12
        }
      ]
    },
    {
      "cell_type": "code",
      "metadata": {
        "colab": {
          "base_uri": "https://localhost:8080/"
        },
        "id": "Rkgy7vG1_x5B",
        "outputId": "3adcdca6-ac65-4245-efbe-67518383cf7f"
      },
      "source": [
        "temp.columns"
      ],
      "execution_count": 13,
      "outputs": [
        {
          "output_type": "execute_result",
          "data": {
            "text/plain": [
              "MultiIndex([('show_id',   'Movie'),\n",
              "            ('show_id', 'TV Show'),\n",
              "            ('show_id',   'Total')],\n",
              "           names=[None, 'type'])"
            ]
          },
          "metadata": {
            "tags": []
          },
          "execution_count": 13
        }
      ]
    },
    {
      "cell_type": "code",
      "metadata": {
        "colab": {
          "base_uri": "https://localhost:8080/",
          "height": 296
        },
        "id": "BcyzjiEQCr4o",
        "outputId": "4a658064-19f2-48b6-9bff-706e8a6cd3a8"
      },
      "source": [
        "temp[('show_id','Movie')].plot(label='Movies')\r\n",
        "temp[('show_id','TV Show')].plot(label='TV Shows')\r\n",
        "temp[('show_id','Total')].plot(label='Total')\r\n",
        "plt.title('Total content added across all years(upto 2019')\r\n",
        "plt.legend()\r\n",
        "plt.show()"
      ],
      "execution_count": 14,
      "outputs": [
        {
          "output_type": "display_data",
          "data": {
            "image/png": "[encoded data removed]",
            "text/plain": [
              "<Figure size 432x288 with 1 Axes>"
            ]
          },
          "metadata": {
            "tags": [],
            "needs_background": "light"
          }
        }
      ]
    },
    {
      "cell_type": "markdown",
      "metadata": {
        "id": "lOgyWXn9Fsiv"
      },
      "source": [
        "we can conclude that the popular streaming platform started gaining traction after 2013. Since then, the amount of content added has been increasing significantly. The growth in the number of movies on Netflix is much higher than that on TV shows.  Besides, we can know that Netflix has increasingly focused on movies rather than TV shows in recent years"
      ]
    },
    {
      "cell_type": "code",
      "metadata": {
        "id": "lMwbRRFpH0p2"
      },
      "source": [
        "#netflix_df.country.unique()\r\n",
        "#multiple countries are there in one value of country\r\n",
        "#we need to separate and then count by country"
      ],
      "execution_count": 15,
      "outputs": []
    },
    {
      "cell_type": "code",
      "metadata": {
        "colab": {
          "base_uri": "https://localhost:8080/",
          "height": 366
        },
        "id": "WFQNl_M0EEf5",
        "outputId": "41366296-5491-4a96-c96f-ee52dda808ac"
      },
      "source": [
        "#Countries by the Amount of the Produces Content\r\n",
        "\r\n",
        "netflix_df['id'] = netflix_df.index+1\r\n",
        "select_country = netflix_df.set_index('id').country.str.split(',', expand = True).stack().reset_index(1, drop = True).reset_index(name = 'country_name')\r\n",
        "select_country.groupby('country_name').size().sort_values(ascending=False).head(10).plot.bar()\r\n",
        "plt.title('Top 10 Countries Contributor on Netflix')\r\n",
        "plt.show()"
      ],
      "execution_count": 16,
      "outputs": [
        {
          "output_type": "display_data",
          "data": {
            "image/png": "[encoded data removed]",
            "text/plain": [
              "<Figure size 432x288 with 1 Axes>"
            ]
          },
          "metadata": {
            "tags": [],
            "needs_background": "light"
          }
        }
      ]
    },
    {
      "cell_type": "markdown",
      "metadata": {
        "id": "4PwAEyJ2H38o"
      },
      "source": [
        "**Top Directors on Netflix**"
      ]
    },
    {
      "cell_type": "code",
      "metadata": {
        "colab": {
          "base_uri": "https://localhost:8080/",
          "height": 282
        },
        "id": "2VLmNwyOHAgj",
        "outputId": "d4c8f923-ac51-44a1-aa48-558aa83f8279"
      },
      "source": [
        "netflix_df.groupby('director').size().sort_values(ascending=False)[1:11].plot.barh(color='g')"
      ],
      "execution_count": 22,
      "outputs": [
        {
          "output_type": "execute_result",
          "data": {
            "text/plain": [
              "<matplotlib.axes._subplots.AxesSubplot at 0x7fabde8f01d0>"
            ]
          },
          "metadata": {
            "tags": []
          },
          "execution_count": 22
        },
        {
          "output_type": "display_data",
          "data": {
            "image/png": "[encoded data removed]",
            "text/plain": [
              "<Figure size 432x288 with 1 Axes>"
            ]
          },
          "metadata": {
            "tags": [],
            "needs_background": "light"
          }
        }
      ]
    },
    {
      "cell_type": "markdown",
      "metadata": {
        "id": "wCqCMZ5KL19-"
      },
      "source": [
        "**Top Genres on Netflix**"
      ]
    },
    {
      "cell_type": "code",
      "metadata": {
        "colab": {
          "base_uri": "https://localhost:8080/",
          "height": 281
        },
        "id": "RaqczwahJgIC",
        "outputId": "0c8953d3-5442-4e4e-99f9-e608581acf62"
      },
      "source": [
        "select_genre = netflix_df.set_index('id').listed_in.str.split(',', expand = True).stack().reset_index(1, drop = True).reset_index(name = 'Genre')\r\n",
        "select_genre.groupby('Genre').size().sort_values(ascending=False).head(20).plot.barh()\r\n",
        "plt.title('Top 20 Genre  on Netflix')\r\n",
        "plt.show()"
      ],
      "execution_count": 40,
      "outputs": [
        {
          "output_type": "display_data",
          "data": {
            "image/png": "[encoded data removed]",
            "text/plain": [
              "<Figure size 432x288 with 1 Axes>"
            ]
          },
          "metadata": {
            "tags": [],
            "needs_background": "light"
          }
        }
      ]
    },
    {
      "cell_type": "markdown",
      "metadata": {
        "id": "enu7OCAEPG1H"
      },
      "source": [
        "**Amount of Content By Rating**"
      ]
    },
    {
      "cell_type": "code",
      "metadata": {
        "colab": {
          "base_uri": "https://localhost:8080/",
          "height": 810
        },
        "id": "fKxv6xoiMgbd",
        "outputId": "531160ee-b901-41d1-bf2c-dc39352a8f33"
      },
      "source": [
        "rating_df = netflix_df.groupby(['rating','type']).size().sort_values(ascending=False).reset_index()\r\n",
        "rating_df.columns =['rating','type','count']\r\n",
        "rating_df"
      ],
      "execution_count": 73,
      "outputs": [
        {
          "output_type": "execute_result",
          "data": {
            "text/html": [
              "<div>\n",
              "<style scoped>\n",
              "    .dataframe tbody tr th:only-of-type {\n",
              "        vertical-align: middle;\n",
              "    }\n",
              "\n",
              "    .dataframe tbody tr th {\n",
              "        vertical-align: top;\n",
              "    }\n",
              "\n",
              "    .dataframe thead th {\n",
              "        text-align: right;\n",
              "    }\n",
              "</style>\n",
              "<table border=\"1\" class=\"dataframe\">\n",
              "  <thead>\n",
              "    <tr style=\"text-align: right;\">\n",
              "      <th></th>\n",
              "      <th>rating</th>\n",
              "      <th>type</th>\n",
              "      <th>count</th>\n",
              "    </tr>\n",
              "  </thead>\n",
              "  <tbody>\n",
              "    <tr>\n",
              "      <th>0</th>\n",
              "      <td>TV-MA</td>\n",
              "      <td>Movie</td>\n",
              "      <td>1348</td>\n",
              "    </tr>\n",
              "    <tr>\n",
              "      <th>1</th>\n",
              "      <td>TV-14</td>\n",
              "      <td>Movie</td>\n",
              "      <td>1038</td>\n",
              "    </tr>\n",
              "    <tr>\n",
              "      <th>2</th>\n",
              "      <td>TV-MA</td>\n",
              "      <td>TV Show</td>\n",
              "      <td>677</td>\n",
              "    </tr>\n",
              "    <tr>\n",
              "      <th>3</th>\n",
              "      <td>TV-14</td>\n",
              "      <td>TV Show</td>\n",
              "      <td>657</td>\n",
              "    </tr>\n",
              "    <tr>\n",
              "      <th>4</th>\n",
              "      <td>R</td>\n",
              "      <td>Movie</td>\n",
              "      <td>506</td>\n",
              "    </tr>\n",
              "    <tr>\n",
              "      <th>5</th>\n",
              "      <td>TV-PG</td>\n",
              "      <td>Movie</td>\n",
              "      <td>432</td>\n",
              "    </tr>\n",
              "    <tr>\n",
              "      <th>6</th>\n",
              "      <td>PG-13</td>\n",
              "      <td>Movie</td>\n",
              "      <td>286</td>\n",
              "    </tr>\n",
              "    <tr>\n",
              "      <th>7</th>\n",
              "      <td>TV-PG</td>\n",
              "      <td>TV Show</td>\n",
              "      <td>267</td>\n",
              "    </tr>\n",
              "    <tr>\n",
              "      <th>8</th>\n",
              "      <td>NR</td>\n",
              "      <td>Movie</td>\n",
              "      <td>202</td>\n",
              "    </tr>\n",
              "    <tr>\n",
              "      <th>9</th>\n",
              "      <td>PG</td>\n",
              "      <td>Movie</td>\n",
              "      <td>183</td>\n",
              "    </tr>\n",
              "    <tr>\n",
              "      <th>10</th>\n",
              "      <td>TV-Y</td>\n",
              "      <td>TV Show</td>\n",
              "      <td>101</td>\n",
              "    </tr>\n",
              "    <tr>\n",
              "      <th>11</th>\n",
              "      <td>TV-Y7</td>\n",
              "      <td>TV Show</td>\n",
              "      <td>99</td>\n",
              "    </tr>\n",
              "    <tr>\n",
              "      <th>12</th>\n",
              "      <td>TV-G</td>\n",
              "      <td>Movie</td>\n",
              "      <td>80</td>\n",
              "    </tr>\n",
              "    <tr>\n",
              "      <th>13</th>\n",
              "      <td>TV-Y7</td>\n",
              "      <td>Movie</td>\n",
              "      <td>69</td>\n",
              "    </tr>\n",
              "    <tr>\n",
              "      <th>14</th>\n",
              "      <td>TV-G</td>\n",
              "      <td>TV Show</td>\n",
              "      <td>69</td>\n",
              "    </tr>\n",
              "    <tr>\n",
              "      <th>15</th>\n",
              "      <td>TV-Y7-FV</td>\n",
              "      <td>TV Show</td>\n",
              "      <td>68</td>\n",
              "    </tr>\n",
              "    <tr>\n",
              "      <th>16</th>\n",
              "      <td>TV-Y</td>\n",
              "      <td>Movie</td>\n",
              "      <td>41</td>\n",
              "    </tr>\n",
              "    <tr>\n",
              "      <th>17</th>\n",
              "      <td>G</td>\n",
              "      <td>Movie</td>\n",
              "      <td>36</td>\n",
              "    </tr>\n",
              "    <tr>\n",
              "      <th>18</th>\n",
              "      <td>TV-Y7-FV</td>\n",
              "      <td>Movie</td>\n",
              "      <td>27</td>\n",
              "    </tr>\n",
              "    <tr>\n",
              "      <th>19</th>\n",
              "      <td>NR</td>\n",
              "      <td>TV Show</td>\n",
              "      <td>15</td>\n",
              "    </tr>\n",
              "    <tr>\n",
              "      <th>20</th>\n",
              "      <td>UR</td>\n",
              "      <td>Movie</td>\n",
              "      <td>7</td>\n",
              "    </tr>\n",
              "    <tr>\n",
              "      <th>21</th>\n",
              "      <td>R</td>\n",
              "      <td>TV Show</td>\n",
              "      <td>2</td>\n",
              "    </tr>\n",
              "    <tr>\n",
              "      <th>22</th>\n",
              "      <td>NC-17</td>\n",
              "      <td>Movie</td>\n",
              "      <td>2</td>\n",
              "    </tr>\n",
              "    <tr>\n",
              "      <th>23</th>\n",
              "      <td>PG</td>\n",
              "      <td>TV Show</td>\n",
              "      <td>1</td>\n",
              "    </tr>\n",
              "    <tr>\n",
              "      <th>24</th>\n",
              "      <td>G</td>\n",
              "      <td>TV Show</td>\n",
              "      <td>1</td>\n",
              "    </tr>\n",
              "  </tbody>\n",
              "</table>\n",
              "</div>"
            ],
            "text/plain": [
              "      rating     type  count\n",
              "0      TV-MA    Movie   1348\n",
              "1      TV-14    Movie   1038\n",
              "2      TV-MA  TV Show    677\n",
              "3      TV-14  TV Show    657\n",
              "4          R    Movie    506\n",
              "5      TV-PG    Movie    432\n",
              "6      PG-13    Movie    286\n",
              "7      TV-PG  TV Show    267\n",
              "8         NR    Movie    202\n",
              "9         PG    Movie    183\n",
              "10      TV-Y  TV Show    101\n",
              "11     TV-Y7  TV Show     99\n",
              "12      TV-G    Movie     80\n",
              "13     TV-Y7    Movie     69\n",
              "14      TV-G  TV Show     69\n",
              "15  TV-Y7-FV  TV Show     68\n",
              "16      TV-Y    Movie     41\n",
              "17         G    Movie     36\n",
              "18  TV-Y7-FV    Movie     27\n",
              "19        NR  TV Show     15\n",
              "20        UR    Movie      7\n",
              "21         R  TV Show      2\n",
              "22     NC-17    Movie      2\n",
              "23        PG  TV Show      1\n",
              "24         G  TV Show      1"
            ]
          },
          "metadata": {
            "tags": []
          },
          "execution_count": 73
        }
      ]
    },
    {
      "cell_type": "code",
      "metadata": {
        "colab": {
          "base_uri": "https://localhost:8080/"
        },
        "id": "ZrPEZ4kbZQCL",
        "outputId": "ca89770d-9371-4ad8-f823-a8a0d27eedaa"
      },
      "source": [
        "rating_df.columns"
      ],
      "execution_count": 75,
      "outputs": [
        {
          "output_type": "execute_result",
          "data": {
            "text/plain": [
              "Index(['rating', 'type', 'count'], dtype='object')"
            ]
          },
          "metadata": {
            "tags": []
          },
          "execution_count": 75
        }
      ]
    },
    {
      "cell_type": "code",
      "metadata": {
        "colab": {
          "base_uri": "https://localhost:8080/",
          "height": 417
        },
        "id": "9M9D0QRhQHNQ",
        "outputId": "58ba1efe-b933-4a1d-d938-1572b12276f3"
      },
      "source": [
        "sns.catplot(x='rating', y='count', hue='type', data=rating_df, kind='bar')\r\n",
        "plt.xticks(rotation=90)\r\n",
        "plt.show()"
      ],
      "execution_count": 80,
      "outputs": [
        {
          "output_type": "display_data",
          "data": {
            "image/png": "[encoded data removed]",
            "text/plain": [
              "<Figure size 438.75x360 with 1 Axes>"
            ]
          },
          "metadata": {
            "tags": [],
            "needs_background": "light"
          }
        }
      ]
    },
    {
      "cell_type": "markdown",
      "metadata": {
        "id": "Wv9YsQYGaLys"
      },
      "source": [
        "The largest count of Netflix content is made with a “TV-14” rating. “TV-14” contains material that parents or adult guardians may find unsuitable for children under the age of 14. But the largest count of TV shows is made with a “TV-MA” rating. “TV-MA” is a rating assigned by the TV Parental Guidelines to a television program designed for mature audiences only."
      ]
    },
    {
      "cell_type": "markdown",
      "metadata": {
        "id": "5dfIDITvaQjh"
      },
      "source": [
        "**Top Actor on Netflix based on the number of titles**"
      ]
    },
    {
      "cell_type": "code",
      "metadata": {
        "colab": {
          "base_uri": "https://localhost:8080/",
          "height": 381
        },
        "id": "CUgCOMuMVPjf",
        "outputId": "6934f08a-7fee-459a-9359-b4f039d4ccdd"
      },
      "source": [
        "select_actor = netflix_df.set_index('id').cast.str.split(',', expand = True).stack().reset_index(1, drop = True).reset_index(name = 'actor_name')\r\n",
        "select_actor.groupby('actor_name').size().sort_values(ascending=False)[1:11].plot.bar()\r\n",
        "plt.title('Top 10 actors by no of Movies on Netflix')\r\n",
        "plt.show()"
      ],
      "execution_count": 87,
      "outputs": [
        {
          "output_type": "display_data",
          "data": {
            "image/png": "[encoded data removed]",
            "text/plain": [
              "<Figure size 432x288 with 1 Axes>"
            ]
          },
          "metadata": {
            "tags": [],
            "needs_background": "light"
          }
        }
      ]
    },
    {
      "cell_type": "code",
      "metadata": {
        "colab": {
          "base_uri": "https://localhost:8080/",
          "height": 281
        },
        "id": "8XionjUMhn8b",
        "outputId": "04573ab7-d04d-423f-c5c2-6aa29e0e174d"
      },
      "source": [
        "select_actor = netflix_df.set_index('type').cast.str.split(',', expand = True).stack().reset_index(1, drop = True).reset_index(name = 'actor_name')\r\n",
        "select_actor[select_actor.type=='TV Show'].groupby('actor_name').size().sort_values(ascending=False)[1:11].plot.barh()\r\n",
        "plt.title('Top 10 Actor TV Shows Based on The Number of Titles')\r\n",
        "plt.show()"
      ],
      "execution_count": 92,
      "outputs": [
        {
          "output_type": "display_data",
          "data": {
            "image/png": "[encoded data removed]",
            "text/plain": [
              "<Figure size 432x288 with 1 Axes>"
            ]
          },
          "metadata": {
            "tags": [],
            "needs_background": "light"
          }
        }
      ]
    },
    {
      "cell_type": "markdown",
      "metadata": {
        "id": "TD-q4pRjjmOu"
      },
      "source": [
        "The most popular actor on Netflix TV Shows based on the number of titles is Takahiro Sakurai,\r\n",
        "The most popular actor on Netflix movie, based on the number of titles, is Anupam Kher."
      ]
    },
    {
      "cell_type": "code",
      "metadata": {
        "id": "MicpvNJfiTsx"
      },
      "source": [
        ""
      ],
      "execution_count": null,
      "outputs": []
    }
  ]
}